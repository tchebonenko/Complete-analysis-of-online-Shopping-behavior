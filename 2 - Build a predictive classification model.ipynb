{
 "cells": [
  {
   "cell_type": "markdown",
   "metadata": {},
   "source": [
    "# Download data and import libraries"
   ]
  },
  {
   "cell_type": "code",
   "execution_count": 1,
   "metadata": {
    "id": "A5GJu4TdSHK-"
   },
   "outputs": [],
   "source": [
    "%matplotlib inline \n",
    "\n",
    "import pandas as pd\n",
    "import numpy as np\n",
    "\n",
    "from pandas_profiling import ProfileReport\n",
    "import statsmodels.api as sm\n",
    "\n",
    "from sklearn.preprocessing import StandardScaler\n",
    "from sklearn.metrics import confusion_matrix, classification_report\n",
    "from sklearn.model_selection import GridSearchCV\n",
    "from sklearn.metrics import make_scorer, recall_score\n",
    "\n",
    "import seaborn as sns\n",
    "import matplotlib.pyplot as plt"
   ]
  },
  {
   "cell_type": "code",
   "execution_count": 18,
   "metadata": {
    "colab": {
     "base_uri": "https://localhost:8080/"
    },
    "id": "lSsDaxDfW5OD",
    "outputId": "fbe8359b-0973-4c35-a542-28151ea87eee"
   },
   "outputs": [
    {
     "name": "stdout",
     "output_type": "stream",
     "text": [
      "(6523, 14) (6523,)\n",
      "(2035, 14) (2035,)\n"
     ]
    }
   ],
   "source": [
    "X_train = df_train[pv_selected_columns].values\n",
    "y_train = df_train['Revenue'].values\n",
    "\n",
    "X_test = df_test[pv_selected_columns].values\n",
    "y_test = df_test['Revenue'].values\n",
    "\n",
    "print(X_train.shape, y_train.shape)\n",
    "print(X_test.shape, y_test.shape)"
   ]
  },
  {
   "cell_type": "code",
   "execution_count": 19,
   "metadata": {
    "id": "AkJuoR1FX7N5"
   },
   "outputs": [],
   "source": [
    "#Standardize features by removing the mean and scaling to unit variance\n",
    "scaler = StandardScaler()\n",
    "X_train_st = scaler.fit(X_train).transform(X_train)\n",
    "X_test_st = scaler.transform(X_test)"
   ]
  },
  {
   "cell_type": "markdown",
   "metadata": {
    "id": "3g_gG_0NjhEl"
   },
   "source": [
    "# Linear models\n",
    "Since labels are very skewed towards \"False\" hyper-parameter \"class_weight\" value is \"balanced\".\n",
    "\n",
    "Model selection process:\n",
    "1. for each model candidate find hyper-parameters that guarantee its best performance\n",
    "2. among models traind using best parameters select one that delivers best recall for \"Revenue\"=True (Purchase) class"
   ]
  },
  {
   "cell_type": "code",
   "execution_count": 20,
   "metadata": {
    "id": "jfoLhEG4_Rwf"
   },
   "outputs": [],
   "source": [
    "from sklearn.linear_model import LogisticRegression\n",
    "from sklearn.svm import LinearSVC"
   ]
  },
  {
   "cell_type": "code",
   "execution_count": 21,
   "metadata": {},
   "outputs": [],
   "source": [
    "# creating recall scoribg function for CV that focuses on just \"Purchase\" class\n",
    "recall_score2 = make_scorer(recall_score, pos_label=1)"
   ]
  },
  {
   "cell_type": "code",
   "execution_count": 22,
   "metadata": {
    "id": "7LZTfw-O-6sV"
   },
   "outputs": [],
   "source": [
    "# creating a dict of linear models to choose from\n",
    "model_dict = {'Logistic Regression' : LogisticRegression(),\n",
    "              \"Linear SVM\": LinearSVC()}"
   ]
  },
  {
   "cell_type": "code",
   "execution_count": 23,
   "metadata": {
    "id": "j4HbSv_N-6x2"
   },
   "outputs": [],
   "source": [
    "# creating a dict of parameters for the models\n",
    "params_LR = dict(penalty=['l1', 'l2', 'elasticnet'],\n",
    "                 C=[0.2,0.5,1,2,5,10],\n",
    "                 fit_intercept=[True, False],\n",
    "                 class_weight = ['balanced']\n",
    "                 )\n",
    "params_SVM = dict(penalty=['l1', 'l2'],\n",
    "                  loss=['hinge', 'squared_hinge'],\n",
    "                  C=[0.2,0.5,1,2,5,10],\n",
    "                  fit_intercept=[True, False],\n",
    "                  class_weight = ['balanced']\n",
    "                  )\n",
    "parameters_dict = {'Logistic Regression': params_LR,\n",
    "                  \"Linear SVM\" : params_SVM}"
   ]
  },
  {
   "cell_type": "code",
   "execution_count": 24,
   "metadata": {
    "colab": {
     "base_uri": "https://localhost:8080/"
    },
    "id": "nU6u_1cOptRY",
    "outputId": "1bb2870b-b56d-47c5-a4a2-6edf362e5dd8"
   },
   "outputs": [
    {
     "name": "stdout",
     "output_type": "stream",
     "text": [
      "=============================================\n",
      "Logistic Regression\n",
      "Fitting 5 folds for each of 36 candidates, totalling 180 fits\n"
     ]
    },
    {
     "name": "stderr",
     "output_type": "stream",
     "text": [
      "[Parallel(n_jobs=-1)]: Using backend LokyBackend with 16 concurrent workers.\n",
      "[Parallel(n_jobs=-1)]: Done  18 tasks      | elapsed:    1.1s\n",
      "[Parallel(n_jobs=-1)]: Done 149 out of 180 | elapsed:    1.4s remaining:    0.3s\n",
      "[Parallel(n_jobs=-1)]: Done 180 out of 180 | elapsed:    1.5s finished\n",
      "[Parallel(n_jobs=-1)]: Using backend LokyBackend with 16 concurrent workers.\n"
     ]
    },
    {
     "name": "stdout",
     "output_type": "stream",
     "text": [
      "=============================================\n",
      "Linear SVM\n",
      "Fitting 5 folds for each of 48 candidates, totalling 240 fits\n"
     ]
    },
    {
     "name": "stderr",
     "output_type": "stream",
     "text": [
      "[Parallel(n_jobs=-1)]: Done  18 tasks      | elapsed:    0.5s\n",
      "[Parallel(n_jobs=-1)]: Done 209 out of 240 | elapsed:    3.0s remaining:    0.4s\n",
      "[Parallel(n_jobs=-1)]: Done 240 out of 240 | elapsed:    3.3s finished\n",
      "/Users/tatiana/opt/anaconda3/lib/python3.7/site-packages/sklearn/svm/_base.py:977: ConvergenceWarning: Liblinear failed to converge, increase the number of iterations.\n",
      "  \"the number of iterations.\", ConvergenceWarning)\n"
     ]
    }
   ],
   "source": [
    "# 5-fold gridsearch through parameters maximazing Recall for Purchases\n",
    "model_name, model_parameters, model_best_score = [], [], []\n",
    "\n",
    "model_names = model_dict.keys()\n",
    "\n",
    "for MN in model_names:\n",
    "    print(\"=\"*45)\n",
    "    print(MN)\n",
    "    clf = model_dict[MN]\n",
    "    params = parameters_dict[MN]\n",
    "\n",
    "    gridsearch = GridSearchCV(clf,\n",
    "                              params,\n",
    "                              scoring=recall_score2,\n",
    "                              cv=5,\n",
    "                              verbose=1,\n",
    "                              n_jobs=-1)\n",
    "    \n",
    "    best_model = gridsearch.fit(X_train, y_train)\n",
    "    model_name.append(MN)\n",
    "    model_parameters.append(gridsearch.best_params_)\n",
    "    model_best_score.append(gridsearch.best_score_ )"
   ]
  },
  {
   "cell_type": "code",
   "execution_count": 25,
   "metadata": {},
   "outputs": [
    {
     "name": "stdout",
     "output_type": "stream",
     "text": [
      "Best model: Logistic Regression\n"
     ]
    },
    {
     "data": {
      "text/html": [
       "<div>\n",
       "<style scoped>\n",
       "    .dataframe tbody tr th:only-of-type {\n",
       "        vertical-align: middle;\n",
       "    }\n",
       "\n",
       "    .dataframe tbody tr th {\n",
       "        vertical-align: top;\n",
       "    }\n",
       "\n",
       "    .dataframe thead th {\n",
       "        text-align: right;\n",
       "    }\n",
       "</style>\n",
       "<table border=\"1\" class=\"dataframe\">\n",
       "  <thead>\n",
       "    <tr style=\"text-align: right;\">\n",
       "      <th></th>\n",
       "      <th>model_name</th>\n",
       "      <th>recall</th>\n",
       "      <th>parameters</th>\n",
       "    </tr>\n",
       "  </thead>\n",
       "  <tbody>\n",
       "    <tr>\n",
       "      <th>0</th>\n",
       "      <td>Logistic Regression</td>\n",
       "      <td>0.678992</td>\n",
       "      <td>{'C': 2, 'class_weight': 'balanced', 'fit_inte...</td>\n",
       "    </tr>\n",
       "    <tr>\n",
       "      <th>1</th>\n",
       "      <td>Linear SVM</td>\n",
       "      <td>0.548739</td>\n",
       "      <td>{'C': 0.5, 'class_weight': 'balanced', 'fit_in...</td>\n",
       "    </tr>\n",
       "  </tbody>\n",
       "</table>\n",
       "</div>"
      ],
      "text/plain": [
       "            model_name    recall  \\\n",
       "0  Logistic Regression  0.678992   \n",
       "1           Linear SVM  0.548739   \n",
       "\n",
       "                                          parameters  \n",
       "0  {'C': 2, 'class_weight': 'balanced', 'fit_inte...  \n",
       "1  {'C': 0.5, 'class_weight': 'balanced', 'fit_in...  "
      ]
     },
     "execution_count": 25,
     "metadata": {},
     "output_type": "execute_result"
    }
   ],
   "source": [
    "# comparing different models\n",
    "model_comparison_df = pd.DataFrame([model_name, model_best_score, model_parameters]).T\n",
    "model_comparison_df.columns = ['model_name', 'recall','parameters']\n",
    "\n",
    "model_comparison_df = model_comparison_df.sort_values(by='recall', ascending=False)\n",
    "clf_name = model_comparison_df['model_name'].iloc[0]\n",
    "clf_params = model_comparison_df['parameters'].iloc[0]\n",
    "clf_accuracy = model_comparison_df['recall'].iloc[0]\n",
    "\n",
    "print('Best model:', clf_name)\n",
    "model_comparison_df[['model_name', 'recall', 'parameters']]"
   ]
  },
  {
   "cell_type": "code",
   "execution_count": 26,
   "metadata": {},
   "outputs": [
    {
     "data": {
      "text/plain": [
       "{'C': 2, 'class_weight': 'balanced', 'fit_intercept': False, 'penalty': 'l2'}"
      ]
     },
     "execution_count": 26,
     "metadata": {},
     "output_type": "execute_result"
    }
   ],
   "source": [
    "#check parameter values\n",
    "model_comparison_df['parameters'].iloc[0]"
   ]
  },
  {
   "cell_type": "markdown",
   "metadata": {},
   "source": [
    "Cross validation parametrs are chosen so that for any model best performance is achieved on parameter values that are not on a boundary."
   ]
  },
  {
   "cell_type": "code",
   "execution_count": 27,
   "metadata": {},
   "outputs": [
    {
     "name": "stdout",
     "output_type": "stream",
     "text": [
      "Logistic Regression\n",
      "Model performance:\n",
      "              precision    recall  f1-score   support\n",
      "\n",
      "       False       0.98      0.92      0.95      1855\n",
      "        True       0.51      0.84      0.63       180\n",
      "\n",
      "    accuracy                           0.91      2035\n",
      "   macro avg       0.75      0.88      0.79      2035\n",
      "weighted avg       0.94      0.91      0.92      2035\n",
      "\n",
      "Confusion matrix\n",
      "[[1708  147]\n",
      " [  28  152]]\n"
     ]
    }
   ],
   "source": [
    "# getting predictions from the best model\n",
    "clf = model_dict[clf_name]\n",
    "clf.set_params(**clf_params)\n",
    "clf.fit(X_train, y_train)\n",
    "y_pred = clf.predict(X_test)\n",
    "\n",
    "cm = confusion_matrix(y_test, y_pred)\n",
    "print(clf_name)\n",
    "print(\"Model performance:\")\n",
    "print(classification_report(y_test, y_pred))\n",
    "print(\"Confusion matrix\")\n",
    "print(cm)"
   ]
  },
  {
   "cell_type": "markdown",
   "metadata": {
    "id": "BHx26iJAyEUc"
   },
   "source": [
    "# Non-Linear models\n"
   ]
  },
  {
   "cell_type": "code",
   "execution_count": 28,
   "metadata": {},
   "outputs": [],
   "source": [
    "from sklearn.linear_model import SGDClassifier\n",
    "from sklearn.tree import DecisionTreeClassifier\n",
    "from sklearn.ensemble import RandomForestClassifier\n",
    "from sklearn.neural_network import MLPClassifier"
   ]
  },
  {
   "cell_type": "code",
   "execution_count": 29,
   "metadata": {
    "colab": {
     "base_uri": "https://localhost:8080/"
    },
    "id": "KPl9yPZQek1E",
    "outputId": "4650badc-b4ea-49f0-e405-6554f144b0f3"
   },
   "outputs": [],
   "source": [
    "# creating a dict of models\n",
    "model_dict = {'Stochastic Gradient Descent' : SGDClassifier(),\n",
    "              'Random Forest': RandomForestClassifier(),\n",
    "              'Neural Network': MLPClassifier()\n",
    "             }"
   ]
  },
  {
   "cell_type": "code",
   "execution_count": 30,
   "metadata": {},
   "outputs": [],
   "source": [
    "# creating a dict of parameters for the models\n",
    "params_SGD = dict(loss=['log'],\n",
    "                  penalty=['l2','l1'],\n",
    "                  alpha=[1e-6, 1e-3, 1e-1, 1e0],\n",
    "                  max_iter=[5, 1000, 10000],\n",
    "                  tol=[None, 1e-3],\n",
    "                  random_state=[3])\n",
    "params_RF = dict(bootstrap = [True, False],\n",
    "                  max_depth = [10, 50, 100, None],\n",
    "                  max_features = ['auto', 'sqrt'],\n",
    "                  min_samples_leaf = [1, 2, 4],\n",
    "                  n_estimators = [100, 500, 1000],\n",
    "                  random_state=[3])\n",
    "params_NN = dict(hidden_layer_sizes = [(100,),(150,), (200,), (250,),(500,),(750,), (1000,)],\n",
    "                 alpha=[0.00001, 0.00005, 0.0001, 0.0005],\n",
    "                 activation=['relu'],\n",
    "                 solver=['adam'],\n",
    "                  random_state=[3])\n",
    "\n",
    "parameters_dict = {'Stochastic Gradient Descent' : params_SGD,\n",
    "                   'Random Forest': params_RF,\n",
    "                   'Neural Network': params_NN\n",
    "                  }"
   ]
  },
  {
   "cell_type": "code",
   "execution_count": 31,
   "metadata": {},
   "outputs": [
    {
     "name": "stdout",
     "output_type": "stream",
     "text": [
      "=============================================\n",
      "Stochastic Gradient Descent\n",
      "Fitting 5 folds for each of 48 candidates, totalling 240 fits\n"
     ]
    },
    {
     "name": "stderr",
     "output_type": "stream",
     "text": [
      "[Parallel(n_jobs=-1)]: Using backend LokyBackend with 16 concurrent workers.\n",
      "[Parallel(n_jobs=-1)]: Done  18 tasks      | elapsed:    0.1s\n",
      "[Parallel(n_jobs=-1)]: Done 209 out of 240 | elapsed:   18.9s remaining:    2.8s\n",
      "[Parallel(n_jobs=-1)]: Done 240 out of 240 | elapsed:   31.9s finished\n",
      "[Parallel(n_jobs=-1)]: Using backend LokyBackend with 16 concurrent workers.\n"
     ]
    },
    {
     "name": "stdout",
     "output_type": "stream",
     "text": [
      "=============================================\n",
      "Random Forest\n",
      "Fitting 5 folds for each of 144 candidates, totalling 720 fits\n"
     ]
    },
    {
     "name": "stderr",
     "output_type": "stream",
     "text": [
      "[Parallel(n_jobs=-1)]: Done  18 tasks      | elapsed:    3.7s\n",
      "[Parallel(n_jobs=-1)]: Done 168 tasks      | elapsed:   40.6s\n",
      "[Parallel(n_jobs=-1)]: Done 418 tasks      | elapsed:  1.7min\n",
      "/Users/tatiana/opt/anaconda3/lib/python3.7/site-packages/joblib/externals/loky/process_executor.py:691: UserWarning: A worker stopped while some jobs were given to the executor. This can be caused by a too short worker timeout or by a memory leak.\n",
      "  \"timeout or by a memory leak.\", UserWarning\n",
      "[Parallel(n_jobs=-1)]: Done 720 out of 720 | elapsed:  3.4min finished\n"
     ]
    },
    {
     "name": "stdout",
     "output_type": "stream",
     "text": [
      "=============================================\n",
      "Neural Network\n",
      "Fitting 5 folds for each of 28 candidates, totalling 140 fits\n"
     ]
    },
    {
     "name": "stderr",
     "output_type": "stream",
     "text": [
      "[Parallel(n_jobs=-1)]: Using backend LokyBackend with 16 concurrent workers.\n",
      "[Parallel(n_jobs=-1)]: Done  18 tasks      | elapsed:    3.5s\n",
      "/Users/tatiana/opt/anaconda3/lib/python3.7/site-packages/joblib/externals/loky/process_executor.py:691: UserWarning: A worker stopped while some jobs were given to the executor. This can be caused by a too short worker timeout or by a memory leak.\n",
      "  \"timeout or by a memory leak.\", UserWarning\n",
      "[Parallel(n_jobs=-1)]: Done 140 out of 140 | elapsed:   36.5s finished\n"
     ]
    }
   ],
   "source": [
    "# 5-fold gridsearch through parameters maximazing Recall for Purchases\n",
    "model_name, model_parameters, model_best_score = [], [], []\n",
    "\n",
    "model_names = model_dict.keys()\n",
    "\n",
    "for MN in model_names:\n",
    "    print(\"=\"*45)\n",
    "    print(MN)\n",
    "    clf = model_dict[MN]\n",
    "    params = parameters_dict[MN]\n",
    "\n",
    "    gridsearch = GridSearchCV(clf,\n",
    "                              params,\n",
    "                              scoring=recall_score2,\n",
    "                              cv=5,\n",
    "                              verbose=1,\n",
    "                              n_jobs=-1)\n",
    "    \n",
    "    best_model = gridsearch.fit(X_train, y_train)\n",
    "    model_name.append(MN)\n",
    "    model_parameters.append(gridsearch.best_params_)\n",
    "    model_best_score.append(gridsearch.best_score_ )"
   ]
  },
  {
   "cell_type": "code",
   "execution_count": 32,
   "metadata": {},
   "outputs": [
    {
     "name": "stdout",
     "output_type": "stream",
     "text": [
      "Best model: Neural Network\n"
     ]
    },
    {
     "data": {
      "text/html": [
       "<div>\n",
       "<style scoped>\n",
       "    .dataframe tbody tr th:only-of-type {\n",
       "        vertical-align: middle;\n",
       "    }\n",
       "\n",
       "    .dataframe tbody tr th {\n",
       "        vertical-align: top;\n",
       "    }\n",
       "\n",
       "    .dataframe thead th {\n",
       "        text-align: right;\n",
       "    }\n",
       "</style>\n",
       "<table border=\"1\" class=\"dataframe\">\n",
       "  <thead>\n",
       "    <tr style=\"text-align: right;\">\n",
       "      <th></th>\n",
       "      <th>model_name</th>\n",
       "      <th>recall</th>\n",
       "      <th>parameters</th>\n",
       "    </tr>\n",
       "  </thead>\n",
       "  <tbody>\n",
       "    <tr>\n",
       "      <th>2</th>\n",
       "      <td>Neural Network</td>\n",
       "      <td>0.689076</td>\n",
       "      <td>{'activation': 'relu', 'alpha': 5e-05, 'hidden...</td>\n",
       "    </tr>\n",
       "    <tr>\n",
       "      <th>0</th>\n",
       "      <td>Stochastic Gradient Descent</td>\n",
       "      <td>0.568067</td>\n",
       "      <td>{'alpha': 0.001, 'loss': 'log', 'max_iter': 10...</td>\n",
       "    </tr>\n",
       "    <tr>\n",
       "      <th>1</th>\n",
       "      <td>Random Forest</td>\n",
       "      <td>0.490756</td>\n",
       "      <td>{'bootstrap': True, 'max_depth': 50, 'max_feat...</td>\n",
       "    </tr>\n",
       "  </tbody>\n",
       "</table>\n",
       "</div>"
      ],
      "text/plain": [
       "                    model_name    recall  \\\n",
       "2               Neural Network  0.689076   \n",
       "0  Stochastic Gradient Descent  0.568067   \n",
       "1                Random Forest  0.490756   \n",
       "\n",
       "                                          parameters  \n",
       "2  {'activation': 'relu', 'alpha': 5e-05, 'hidden...  \n",
       "0  {'alpha': 0.001, 'loss': 'log', 'max_iter': 10...  \n",
       "1  {'bootstrap': True, 'max_depth': 50, 'max_feat...  "
      ]
     },
     "execution_count": 32,
     "metadata": {},
     "output_type": "execute_result"
    }
   ],
   "source": [
    "# comparing different models\n",
    "model_comparison_df = pd.DataFrame([model_name, model_best_score, model_parameters]).T\n",
    "model_comparison_df.columns = ['model_name', 'recall','parameters']\n",
    "\n",
    "model_comparison_df = model_comparison_df.sort_values(by='recall', ascending=False)\n",
    "clf_name = model_comparison_df['model_name'].iloc[0]\n",
    "clf_params = model_comparison_df['parameters'].iloc[0]\n",
    "clf_accuracy = model_comparison_df['recall'].iloc[0]\n",
    "\n",
    "print('Best model:', clf_name)\n",
    "model_comparison_df[['model_name', 'recall', 'parameters']]"
   ]
  },
  {
   "cell_type": "code",
   "execution_count": 33,
   "metadata": {},
   "outputs": [
    {
     "data": {
      "text/plain": [
       "{'activation': 'relu',\n",
       " 'alpha': 5e-05,\n",
       " 'hidden_layer_sizes': (500,),\n",
       " 'random_state': 3,\n",
       " 'solver': 'adam'}"
      ]
     },
     "execution_count": 33,
     "metadata": {},
     "output_type": "execute_result"
    }
   ],
   "source": [
    "#check parameter values\n",
    "model_comparison_df['parameters'].iloc[0]"
   ]
  },
  {
   "cell_type": "markdown",
   "metadata": {},
   "source": [
    "Cross validation parametrs are chosen so that for any model best performance is achieved on parameter values that are not on a boundary."
   ]
  },
  {
   "cell_type": "code",
   "execution_count": 34,
   "metadata": {},
   "outputs": [
    {
     "name": "stdout",
     "output_type": "stream",
     "text": [
      "Neural Network\n",
      "Model performance:\n",
      "              precision    recall  f1-score   support\n",
      "\n",
      "       False       0.99      0.91      0.95      1855\n",
      "        True       0.50      0.93      0.65       180\n",
      "\n",
      "    accuracy                           0.91      2035\n",
      "   macro avg       0.75      0.92      0.80      2035\n",
      "weighted avg       0.95      0.91      0.92      2035\n",
      "\n",
      "Confusion matrix\n",
      "[[1691  164]\n",
      " [  13  167]]\n"
     ]
    }
   ],
   "source": [
    "# getting predictions from the best model\n",
    "clf = model_dict[clf_name]\n",
    "clf.set_params(**clf_params)\n",
    "clf.fit(X_train, y_train)\n",
    "y_pred = clf.predict(X_test)\n",
    "\n",
    "cm = confusion_matrix(y_test, y_pred)\n",
    "print(clf_name)\n",
    "print(\"Model performance:\")\n",
    "print(classification_report(y_test, y_pred))\n",
    "print(\"Confusion matrix\")\n",
    "print(cm)"
   ]
  },
  {
   "cell_type": "markdown",
   "metadata": {
    "id": "cZOgq1hV0_5z"
   },
   "source": [
    "# Classification performance on data entries corresponding to Feb-March:\n",
    "**Best Models:**\n",
    "\n",
    "|         Classifier        | Accuracy |Precision| Recall | F1-score |\n",
    "|---------------------------|----------|---------|--------|----------|\n",
    "**Linear Classifier**\n",
    "|        Logistic Regression|   0.91   |  0.51   |  0.84  |  0.63    |\n",
    "**Non Linear Classiifer**\n",
    "|             Neural Network|   0.91   |  0.50   |  0.93  |  0.65    |\n",
    "\n",
    "\n",
    "Note: Precision, Recall and F1-score are measured for \"purchase\" class\n",
    "\n"
   ]
  }
 ],
 "metadata": {
  "colab": {
   "collapsed_sections": [
    "nCXFHXr8Qjs_",
    "0tpS8JDKQjs_",
    "SGjBlxpAQjtB"
   ],
   "name": "ML_for_Data_Science 20210506.ipynb",
   "provenance": []
  },
  "kernelspec": {
   "display_name": "Python 3",
   "language": "python",
   "name": "python3"
  },
  "language_info": {
   "codemirror_mode": {
    "name": "ipython",
    "version": 3
   },
   "file_extension": ".py",
   "mimetype": "text/x-python",
   "name": "python",
   "nbconvert_exporter": "python",
   "pygments_lexer": "ipython3",
   "version": "3.7.4"
  },
  "toc": {
   "base_numbering": 1,
   "nav_menu": {},
   "number_sections": true,
   "sideBar": true,
   "skip_h1_title": false,
   "title_cell": "Table of Contents",
   "title_sidebar": "Contents",
   "toc_cell": false,
   "toc_position": {
    "height": "calc(100% - 180px)",
    "left": "10px",
    "top": "150px",
    "width": "329.797px"
   },
   "toc_section_display": true,
   "toc_window_display": true
  }
 },
 "nbformat": 4,
 "nbformat_minor": 1
}
